{
 "cells": [
  {
   "cell_type": "code",
   "execution_count": 3,
   "metadata": {},
   "outputs": [
    {
     "name": "stdout",
     "output_type": "stream",
     "text": [
      "Scores: [97.29729729729729, 97.29729729729729, 100.0, 97.43589743589743]\n",
      "Mean Accuracy: 98.008%\n",
      "Data=[5.1, 3.5, 1.4, 0.2], Predicted: Iris-setosa\n",
      "Data=[7.0, 3.2, 4.7, 1.4], Predicted: Iris-versicolor\n",
      "Data=[6.3, 3.3, 6.0, 2.5], Predicted: Iris-virginica\n"
     ]
    }
   ],
   "source": [
    "from knn import KNN\n",
    "\n",
    "# define model parameter\n",
    "num_neighbors = 5\n",
    "model = KNN(num_neighbors)\n",
    "filename = 'iris.csv'\n",
    "dataset = model.load_csv(filename)\n",
    "\n",
    "dataset = model.str2float(dataset)\n",
    "classes_int, class_str = model.str2int(dataset)\n",
    "\n",
    "# k fold cross-validation\n",
    "k_fold = 4\n",
    "scores = model.kfold_cv(dataset, k_fold, num_neighbors)    \n",
    "print('Scores: %s' % scores)\n",
    "print('Mean Accuracy: %.3f%%' % (sum(scores)/float(len(scores))))\n",
    "# define a new record\n",
    "row = [5.1,3.5,1.4,0.2]\n",
    "# predict the label\n",
    "label = model.predict_classification(dataset, row, num_neighbors)\n",
    "print('Data=%s, Predicted: %s' % (row, label))\n",
    "row = [7.0,3.2,4.7,1.4]\n",
    "label = model.predict_classification(dataset, row, num_neighbors)\n",
    "print('Data=%s, Predicted: %s' % (row, label))\n",
    "row = [6.3,3.3,6.0,2.5]\n",
    "label = model.predict_classification(dataset, row, num_neighbors)\n",
    "print('Data=%s, Predicted: %s' % (row, label))\n"
   ]
  },
  {
   "cell_type": "code",
   "execution_count": null,
   "metadata": {},
   "outputs": [],
   "source": []
  }
 ],
 "metadata": {
  "kernelspec": {
   "display_name": "Python 3",
   "language": "python",
   "name": "python3"
  },
  "language_info": {
   "codemirror_mode": {
    "name": "ipython",
    "version": 3
   },
   "file_extension": ".py",
   "mimetype": "text/x-python",
   "name": "python",
   "nbconvert_exporter": "python",
   "pygments_lexer": "ipython3",
   "version": "3.6.4"
  }
 },
 "nbformat": 4,
 "nbformat_minor": 2
}
